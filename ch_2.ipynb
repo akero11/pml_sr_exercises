{
 "cells": [
  {
   "cell_type": "markdown",
   "id": "recovered-element",
   "metadata": {},
   "source": [
    "# Chapter Two: Training Machine Learning Algorithms for Classification"
   ]
  },
  {
   "cell_type": "markdown",
   "id": "third-placement",
   "metadata": {},
   "source": [
    "## Nombres\n",
    "\n",
    "eta -> parece una n, representa la taza de aprendizaje  \n",
    "y -> class labels  \n",
    "__X__ -> Matrix, equis grande  \n",
    "__x__ -> Vector, equis pequeña  \n",
    "$x_j^i$ -> Valor individual, equis cursiva  \n",
    "$x^i$ -> _i_-th row of X  \n",
    "$x_j$ -> _j_-th dimension of X  \n",
    "__z__ -> Net Input  "
   ]
  },
  {
   "cell_type": "markdown",
   "id": "greatest-trigger",
   "metadata": {},
   "source": [
    "## Perceptron"
   ]
  },
  {
   "cell_type": "markdown",
   "id": "correct-patient",
   "metadata": {},
   "source": [
    "### Useful resources: \n",
    "[\"Perceptron\"](https://youtu.be/4Gac5I64LM4) by [ritvikmath](https://www.youtube.com/channel/UCUcpVoi5KkJmnE3bvEhHR0Q)"
   ]
  },
  {
   "cell_type": "code",
   "execution_count": 2,
   "id": "nuclear-generation",
   "metadata": {},
   "outputs": [],
   "source": [
    "import numpy as np"
   ]
  },
  {
   "cell_type": "code",
   "execution_count": 21,
   "id": "nervous-navigator",
   "metadata": {},
   "outputs": [],
   "source": [
    "class Perceptron:\n",
    "    def __init__(self, learning_rate = 0.1, n_iterations = 50):\n",
    "        self.learning_rate = learning_rate\n",
    "        self.n_iterations = n_iterations\n",
    "\n",
    "        \n",
    "    def fit(self, X, y):\n",
    "        self.w_ = np.zeros(X.shape[1] + 1)\n",
    "        self.errors = []\n",
    "        \n",
    "        for _ in range(self.n_iterations):\n",
    "            errors = 0\n",
    "            for xi, target in zip(X, y):\n",
    "                update = self.learning_rate * (target - self.predict(xi))\n",
    "                self.w_[1:] += update * xi\n",
    "                self.w_[0] += update\n",
    "                errors += int(update!=0.0)\n",
    "            self.errors.append(errors)\n",
    "        return(self)\n",
    "\n",
    "\n",
    "    def net_input(self, X):\n",
    "        return(np.dot(X, self.w_[1:]) + self.w_[0])\n",
    "\n",
    "    \n",
    "    def predict(self, X):\n",
    "        return(np.where(self.net_input(X) >= 0.0, 1, -1))"
   ]
  },
  {
   "cell_type": "markdown",
   "id": "advisory-saturn",
   "metadata": {},
   "source": [
    "### Notas\n",
    "\n",
    "Predict se usa en el entrenar pero también se usa una vez se ha entrenado.  \n",
    "Se guardan los errores para evaluar el desempeño posteriormente.  \n",
    "La regla del perceptron no está restringida a 2d.  \n",
    "Puede usarse __OvA__ para clasificación de multiples clases."
   ]
  },
  {
   "cell_type": "markdown",
   "id": "fleet-rating",
   "metadata": {},
   "source": [
    "### Dudas\n",
    "\n",
    "* ¿Por qué + w_0?\n",
    "    > porque es una manera mas compacta y equivalente a otra cosa,  \n",
    "    > un equivalente es np.dot(1+X, 1+self.w_[1:]) o algo asi...\n",
    "* No entiendo porque no añadir 0 como w[0] y 1 como X[0].\n",
    "    > creo que no afecta en nada pero puede que genere problemas  \n",
    "    > tambien creo que es dificil de definir\n",
    "    > o puede que no valga la pena añadir un 1 al inicio si X es muy grande"
   ]
  },
  {
   "cell_type": "markdown",
   "id": "polar-suspect",
   "metadata": {},
   "source": [
    "## Probando el perceptron con el dataset iris."
   ]
  },
  {
   "cell_type": "markdown",
   "id": "impressive-drill",
   "metadata": {},
   "source": [
    "### Importando el dataset"
   ]
  },
  {
   "cell_type": "code",
   "execution_count": 4,
   "id": "flying-offense",
   "metadata": {},
   "outputs": [],
   "source": [
    "import pandas as pd"
   ]
  },
  {
   "cell_type": "code",
   "execution_count": 5,
   "id": "indirect-boost",
   "metadata": {},
   "outputs": [
    {
     "data": {
      "text/html": [
       "<div>\n",
       "<style scoped>\n",
       "    .dataframe tbody tr th:only-of-type {\n",
       "        vertical-align: middle;\n",
       "    }\n",
       "\n",
       "    .dataframe tbody tr th {\n",
       "        vertical-align: top;\n",
       "    }\n",
       "\n",
       "    .dataframe thead th {\n",
       "        text-align: right;\n",
       "    }\n",
       "</style>\n",
       "<table border=\"1\" class=\"dataframe\">\n",
       "  <thead>\n",
       "    <tr style=\"text-align: right;\">\n",
       "      <th></th>\n",
       "      <th>0</th>\n",
       "      <th>1</th>\n",
       "      <th>2</th>\n",
       "      <th>3</th>\n",
       "      <th>4</th>\n",
       "    </tr>\n",
       "  </thead>\n",
       "  <tbody>\n",
       "    <tr>\n",
       "      <th>145</th>\n",
       "      <td>6.7</td>\n",
       "      <td>3.0</td>\n",
       "      <td>5.2</td>\n",
       "      <td>2.3</td>\n",
       "      <td>Iris-virginica</td>\n",
       "    </tr>\n",
       "    <tr>\n",
       "      <th>146</th>\n",
       "      <td>6.3</td>\n",
       "      <td>2.5</td>\n",
       "      <td>5.0</td>\n",
       "      <td>1.9</td>\n",
       "      <td>Iris-virginica</td>\n",
       "    </tr>\n",
       "    <tr>\n",
       "      <th>147</th>\n",
       "      <td>6.5</td>\n",
       "      <td>3.0</td>\n",
       "      <td>5.2</td>\n",
       "      <td>2.0</td>\n",
       "      <td>Iris-virginica</td>\n",
       "    </tr>\n",
       "    <tr>\n",
       "      <th>148</th>\n",
       "      <td>6.2</td>\n",
       "      <td>3.4</td>\n",
       "      <td>5.4</td>\n",
       "      <td>2.3</td>\n",
       "      <td>Iris-virginica</td>\n",
       "    </tr>\n",
       "    <tr>\n",
       "      <th>149</th>\n",
       "      <td>5.9</td>\n",
       "      <td>3.0</td>\n",
       "      <td>5.1</td>\n",
       "      <td>1.8</td>\n",
       "      <td>Iris-virginica</td>\n",
       "    </tr>\n",
       "  </tbody>\n",
       "</table>\n",
       "</div>"
      ],
      "text/plain": [
       "       0    1    2    3               4\n",
       "145  6.7  3.0  5.2  2.3  Iris-virginica\n",
       "146  6.3  2.5  5.0  1.9  Iris-virginica\n",
       "147  6.5  3.0  5.2  2.0  Iris-virginica\n",
       "148  6.2  3.4  5.4  2.3  Iris-virginica\n",
       "149  5.9  3.0  5.1  1.8  Iris-virginica"
      ]
     },
     "execution_count": 5,
     "metadata": {},
     "output_type": "execute_result"
    }
   ],
   "source": [
    "url = 'https://archive.ics.uci.edu/ml/machine-learning-databases/iris/iris.data'\n",
    "df = pd.read_csv(url, header = None, encoding = 'utf-8')\n",
    "df.tail()"
   ]
  },
  {
   "cell_type": "markdown",
   "id": "bacterial-preparation",
   "metadata": {},
   "source": [
    "### Obteniendo las etiquetas y cambiando etiquetas de texto a número"
   ]
  },
  {
   "cell_type": "code",
   "execution_count": 8,
   "id": "egyptian-bookmark",
   "metadata": {},
   "outputs": [],
   "source": [
    "y = df.iloc[0:100, 4].values\n",
    "y = np.where(y == 'Iris-setosa', -1, 1)"
   ]
  },
  {
   "cell_type": "markdown",
   "id": "abstract-cambridge",
   "metadata": {},
   "source": [
    "### Obteniendo largo de sépalo y pétalo"
   ]
  },
  {
   "cell_type": "code",
   "execution_count": 144,
   "id": "automatic-miami",
   "metadata": {},
   "outputs": [],
   "source": [
    "X = df.iloc[0:100, [0, 1]].values"
   ]
  },
  {
   "cell_type": "markdown",
   "id": "crucial-flash",
   "metadata": {},
   "source": [
    "### Graficando"
   ]
  },
  {
   "cell_type": "code",
   "execution_count": 9,
   "id": "tropical-employer",
   "metadata": {},
   "outputs": [],
   "source": [
    "import matplotlib.pyplot as plt"
   ]
  },
  {
   "cell_type": "code",
   "execution_count": 150,
   "id": "double-queensland",
   "metadata": {
    "scrolled": true
   },
   "outputs": [
    {
     "data": {
      "image/png": "[encoded data removed]",
      "text/plain": [
       "<Figure size 432x288 with 1 Axes>"
      ]
     },
     "metadata": {
      "needs_background": "light"
     },
     "output_type": "display_data"
    }
   ],
   "source": [
    "plt.scatter(\n",
    "    X[:50, 0], \n",
    "    X[:50, 1], \n",
    "    color = 'red', \n",
    "    marker = 'o', \n",
    "    label = 'setosa'\n",
    ")\n",
    "\n",
    "plt.scatter(\n",
    "    X[50:100, 0], \n",
    "    X[50:100, 1],\n",
    "    color = 'blue', \n",
    "    marker = 'x', \n",
    "    label = 'versicolor'\n",
    ")\n",
    "\n",
    "plt.xlabel('petal length')\n",
    "plt.ylabel('sepal length')\n",
    "\n",
    "plt.legend(loc='upper left')\n",
    "\n",
    "ws = perceptron.w_\n",
    "plt.plot(list(range(4,9)), [(-ws[0] -(ws[1]*x))/ws[2] for x in range(4,9)], marker='o')\n",
    "\n",
    "plt.show()"
   ]
  },
  {
   "cell_type": "markdown",
   "id": "earned-stable",
   "metadata": {},
   "source": [
    "### Entrenando perceptron"
   ]
  },
  {
   "cell_type": "code",
   "execution_count": 148,
   "id": "conventional-tracker",
   "metadata": {},
   "outputs": [
    {
     "data": {
      "text/plain": [
       "<__main__.Perceptron at 0x7f0f7e14faf0>"
      ]
     },
     "execution_count": 148,
     "metadata": {},
     "output_type": "execute_result"
    }
   ],
   "source": [
    "perceptron = Perceptron(learning_rate = 0.1, n_iterations = 750)\n",
    "perceptron.fit(X, y)"
   ]
  },
  {
   "cell_type": "markdown",
   "id": "superb-intro",
   "metadata": {},
   "source": [
    "### Graficando"
   ]
  },
  {
   "cell_type": "code",
   "execution_count": 149,
   "id": "modular-panic",
   "metadata": {
    "scrolled": true
   },
   "outputs": [
    {
     "data": {
      "image/png": "[encoded data removed]",
      "text/plain": [
       "<Figure size 432x288 with 1 Axes>"
      ]
     },
     "metadata": {
      "needs_background": "light"
     },
     "output_type": "display_data"
    }
   ],
   "source": [
    "plt.plot(range(1, len(perceptron.errors) + 1), perceptron.errors, marker='o')\n",
    "plt.xlabel('Epochs')\n",
    "plt.ylabel('Number of updates')\n",
    "plt.show()"
   ]
  },
  {
   "cell_type": "code",
   "execution_count": null,
   "id": "correct-franchise",
   "metadata": {},
   "outputs": [],
   "source": [
    "ws = perceptron.w_\n",
    "plt.plot([(-ws[0] -(ws[1]*x))/ws[2] for x in range(7)], marker='o')"
   ]
  },
  {
   "cell_type": "markdown",
   "id": "increased-highlight",
   "metadata": {},
   "source": [
    "### Notas\n",
    "\n",
    "Los primeros 100 valores son de iris-setosa e iris-versicolor. Son separables linealmente.  \n",
    "Al ser 2 clases se cambia su nombre por -1 o 1 para __setosa__ y __versicolor__, respectivamente.\n",
    "\n",
    "Se usan los largos del sépalo y el pétalo, correspondiendo a la columna 0 y 2.  \n",
    "\n",
    "Parece que el proceso de entrenamiento finaliza a la sexta vuelta, supongo que es un ejercicio facil.\n",
    "\n",
    "Con el ancho de sépalo y pétalo parece ser mas facil de separar, en el segundo epoch ya ha terminado.\n",
    "Columnas 1 y 3\n",
    "\n",
    "Fijandose solo en el largo y ancho del sépalo parece que nunca llega a \"terminar\", almenos con 0.1 o 0.01 de learning_rate y 10-50 n_iterations.  \n",
    "!!! Parece que es posible pero con estos valores: learning_rate = 0.00001, n_iterations = 1000  \n",
    "Parece que apeeeeenas es posible.  \n",
    "Guarde la imagen con plt.savefig('solo_con_sepalo.png', dpi=300)  \n",
    "Esto es muy poco practico asi que esperare a ver si hay mejores formas de ajustar el learning_rate y las iteraciones.\n",
    "\n",
    "A diferencia de lo anterior, fijandose solo en el sépalo, largo y ancho, parece es la manera más facil de separar setosa y versicolor, en 3 rondas ya ha terminado, con los valores: learning_rate = 0.1, n_iterations = 10  \n",
    "\n",
    "Con ancho de sepalo y largo de petalo parece ser facil de separar, 4 vueltas, l_r de 0.1 y 10 i\n",
    "\n",
    "Dejare el ejemplo standar."
   ]
  },
  {
   "cell_type": "markdown",
   "id": "chubby-mother",
   "metadata": {},
   "source": [
    "### Nota importante\n",
    "\n",
    "Parece que usando otras combinaciones de 2 columnas tambien es posible separar linealmente setosa de versicolor, tal vez ejecute varias veces la notebook para obtener imagenes de los graficos o puede que cree algo para obtener todas esas versiones.  \n",
    "\n",
    "Falta probar con mas dimensiones."
   ]
  },
  {
   "cell_type": "markdown",
   "id": "accredited-plasma",
   "metadata": {},
   "source": [
    "## Preguntas a responder\n",
    "\n",
    "### ¿Cómo se asemeja el aprendizaje de un perceptrón al de una neurona?\n",
    "\n",
    "#### Input  \n",
    "\n",
    "Neurona -> Electricos y Quimicos  \n",
    "Perceptrón -> Datos  \n",
    "\n",
    "#### Activación\n",
    "\n",
    "Neurona -> Impulso suficientemente fuerte para pasar por el axón  \n",
    "Perceptrón -> Valor superior a un cierto limite  \n",
    "\n",
    "#### Aprendizaje  \n",
    "\n",
    "Neurona -> La conexión entre neuronas se fortalece entre más se use  \n",
    "Perceptrón -> Los valores se ajustan para mejorar la clasificación  \n",
    "\n",
    "### ¿Qué hace un algoritmo de clasificación?\n",
    "\n",
    "Predice la clase de algo en base a lo que ha aprendido, a\n",
    "\n",
    "### ¿Cuál es la diferencia entre el perceptrón y Adaline?\n",
    "\n",
    "\n",
    "\n",
    "### ¿Cómo funciona el método de la gradiente?\n",
    "\n",
    "Busca el minimo de \n",
    "\n",
    "### ¿Cuándo utilizar gradiente estocástica?\n",
    "\n"
   ]
  }
 ],
 "metadata": {
  "kernelspec": {
   "display_name": "Python 3",
   "language": "python",
   "name": "python3"
  },
  "language_info": {
   "codemirror_mode": {
    "name": "ipython",
    "version": 3
   },
   "file_extension": ".py",
   "mimetype": "text/x-python",
   "name": "python",
   "nbconvert_exporter": "python",
   "pygments_lexer": "ipython3",
   "version": "3.9.0+"
  }
 },
 "nbformat": 4,
 "nbformat_minor": 5
}
