{
 "cells": [
  {
   "cell_type": "code",
   "execution_count": null,
   "id": "imposed-pound",
   "metadata": {},
   "outputs": [],
   "source": [
    "import "
   ]
  },
  {
   "cell_type": "markdown",
   "id": "recovered-element",
   "metadata": {},
   "source": [
    "# Chapter Two: Training Machine Learning Algorithms for Classification"
   ]
  },
  {
   "cell_type": "markdown",
   "id": "pressing-coalition",
   "metadata": {},
   "source": [
    "## ¿Cómo se asemeja el aprendizaje de un perceptrón al de una neurona?\n",
    "\n",
    "### Input  \n",
    "Neurona -> Electricos y Quimicos  \n",
    "Perceptrón -> Datos  \n",
    "\n",
    "### Activación\n",
    "Neurona -> Impulso suficientemente fuerte para pasar por el axón  \n",
    "Perceptrón -> Valor superior a un cierto limite  \n",
    "\n",
    "### Aprendizaje  \n",
    "Neurona -> La conexión entre neuronas se fortalece entre más se use  \n",
    "Perceptrón -> Los valores se ajustan para mejorar la clasificación  "
   ]
  },
  {
   "cell_type": "markdown",
   "id": "built-influence",
   "metadata": {},
   "source": [
    "## ¿Cuál es la diferencia entre el perceptrón y Adaline?\n",
    "\n",
    "El "
   ]
  }
 ],
 "metadata": {
  "kernelspec": {
   "display_name": "Python 3",
   "language": "python",
   "name": "python3"
  },
  "language_info": {
   "codemirror_mode": {
    "name": "ipython",
    "version": 3
   },
   "file_extension": ".py",
   "mimetype": "text/x-python",
   "name": "python",
   "nbconvert_exporter": "python",
   "pygments_lexer": "ipython3",
   "version": "3.8.5"
  }
 },
 "nbformat": 4,
 "nbformat_minor": 5
}
