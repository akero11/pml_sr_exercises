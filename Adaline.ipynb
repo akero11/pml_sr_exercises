{
 "cells": [
  {
   "cell_type": "code",
   "execution_count": 1,
   "id": "narrow-scope",
   "metadata": {},
   "outputs": [],
   "source": [
    "import numpy as np\n",
    "import pandas as pd\n",
    "from matplotlib import pyplot as plt"
   ]
  },
  {
   "cell_type": "markdown",
   "id": "alert-viewer",
   "metadata": {},
   "source": [
    "## AdaLiNe GD"
   ]
  },
  {
   "cell_type": "code",
   "execution_count": 4,
   "id": "requested-windows",
   "metadata": {},
   "outputs": [],
   "source": [
    "class AdaLiNeGD:\n",
    "    def __init__(self, lr = 0.01, n_iter = 50):\n",
    "        self.lr = lr # Taza de aprendizaje\n",
    "        self.n_iter = n_iter\n",
    "\n",
    "    def fit(self, X, y):        \n",
    "        self.w_ = np.zeros(1 + X.shape[1]) # Iniciar con pesos en 0\n",
    "        self.cost_ = []\n",
    "\n",
    "        for i in range(self.n_iter):\n",
    "            output = self.net_input(X) # Recortado debido a que se usa f(x) = x\n",
    "            errors = (y - output) # Calcula el error\n",
    "            self.w_[1:] += self.lr * X.T.dot(errors) # Cambia los pesos, X.T.dot(errors) = derivada parcial?\n",
    "            self.w_[0] += self.lr * errors.sum() # que hace w0?...\n",
    "            cost = (errors**2).sum() / 2.0 # calcula el coste\n",
    "            self.cost_.append(cost) # guarda el coste\n",
    "        return self\n",
    "\n",
    "    def net_input(self, X): # Esto es calcular z\n",
    "        return np.dot(X, self.w_[1:]) + self.w_[0] \n",
    "\n",
    "    def predict(self, X):\n",
    "        # self.activation(self.net_input(X)) -> self.net_input(X)\n",
    "        return np.where(self.net_input(X) >= 0.0, 1, -1)"
   ]
  },
  {
   "cell_type": "markdown",
   "id": "centered-flower",
   "metadata": {},
   "source": [
    "### AdaLiNe GD - Notas\n",
    "\n",
    "#### fit\n",
    "\n",
    "* Recorté toda la parte de la función de activación porque entiendo que no influye en nada, segun Rashka, es algo simbolico para, más adelante, cambiarlo por regresion logistica.  \n",
    "    Veo que tambien se usa en predict, también lo recorté ahí.\n",
    "* Creo que no comprendo lo que hace la parte \"errors = (y - output)\"  \n",
    "    Creo que ya entiendo, es como la otra vez, si el output es diferente a y entonces ahi es cuando se aclcula el error.  \n",
    "    Ya entiendo de dode surge, es parte de la derivada parcial.\n",
    "* en la parte de \"X.T.dot(errors)\", yo entiendo que todo eso es el calculo de la derivada parcial.\n",
    "* Entender como se involucra w0 me cuesta trabajo, creo que tengo que ponerle mas atencion.  \n",
    "    Ahora que lo pienso, w0 es el limite de activación(o algo asi)... <- __Investigar sobre eso__"
   ]
  },
  {
   "cell_type": "markdown",
   "id": "editorial-genre",
   "metadata": {},
   "source": [
    "## Dataset\n",
    "\n",
    "Se obtienen los datos del detaset"
   ]
  },
  {
   "cell_type": "code",
   "execution_count": 7,
   "id": "limiting-senior",
   "metadata": {
    "scrolled": true
   },
   "outputs": [
    {
     "data": {
      "text/html": [
       "<div>\n",
       "<style scoped>\n",
       "    .dataframe tbody tr th:only-of-type {\n",
       "        vertical-align: middle;\n",
       "    }\n",
       "\n",
       "    .dataframe tbody tr th {\n",
       "        vertical-align: top;\n",
       "    }\n",
       "\n",
       "    .dataframe thead th {\n",
       "        text-align: right;\n",
       "    }\n",
       "</style>\n",
       "<table border=\"1\" class=\"dataframe\">\n",
       "  <thead>\n",
       "    <tr style=\"text-align: right;\">\n",
       "      <th></th>\n",
       "      <th>0</th>\n",
       "      <th>1</th>\n",
       "      <th>2</th>\n",
       "      <th>3</th>\n",
       "      <th>4</th>\n",
       "    </tr>\n",
       "  </thead>\n",
       "  <tbody>\n",
       "    <tr>\n",
       "      <th>145</th>\n",
       "      <td>6.7</td>\n",
       "      <td>3.0</td>\n",
       "      <td>5.2</td>\n",
       "      <td>2.3</td>\n",
       "      <td>Iris-virginica</td>\n",
       "    </tr>\n",
       "    <tr>\n",
       "      <th>146</th>\n",
       "      <td>6.3</td>\n",
       "      <td>2.5</td>\n",
       "      <td>5.0</td>\n",
       "      <td>1.9</td>\n",
       "      <td>Iris-virginica</td>\n",
       "    </tr>\n",
       "    <tr>\n",
       "      <th>147</th>\n",
       "      <td>6.5</td>\n",
       "      <td>3.0</td>\n",
       "      <td>5.2</td>\n",
       "      <td>2.0</td>\n",
       "      <td>Iris-virginica</td>\n",
       "    </tr>\n",
       "    <tr>\n",
       "      <th>148</th>\n",
       "      <td>6.2</td>\n",
       "      <td>3.4</td>\n",
       "      <td>5.4</td>\n",
       "      <td>2.3</td>\n",
       "      <td>Iris-virginica</td>\n",
       "    </tr>\n",
       "    <tr>\n",
       "      <th>149</th>\n",
       "      <td>5.9</td>\n",
       "      <td>3.0</td>\n",
       "      <td>5.1</td>\n",
       "      <td>1.8</td>\n",
       "      <td>Iris-virginica</td>\n",
       "    </tr>\n",
       "  </tbody>\n",
       "</table>\n",
       "</div>"
      ],
      "text/plain": [
       "       0    1    2    3               4\n",
       "145  6.7  3.0  5.2  2.3  Iris-virginica\n",
       "146  6.3  2.5  5.0  1.9  Iris-virginica\n",
       "147  6.5  3.0  5.2  2.0  Iris-virginica\n",
       "148  6.2  3.4  5.4  2.3  Iris-virginica\n",
       "149  5.9  3.0  5.1  1.8  Iris-virginica"
      ]
     },
     "execution_count": 7,
     "metadata": {},
     "output_type": "execute_result"
    }
   ],
   "source": [
    "url = 'https://archive.ics.uci.edu/ml/machine-learning-databases/iris/iris.data'\n",
    "df = pd.read_csv(url, header = None, encoding = 'utf-8')\n",
    "df.tail()"
   ]
  },
  {
   "cell_type": "markdown",
   "id": "suitable-discharge",
   "metadata": {},
   "source": [
    "### y"
   ]
  },
  {
   "cell_type": "code",
   "execution_count": 10,
   "id": "thorough-rogers",
   "metadata": {},
   "outputs": [],
   "source": [
    "y = df.iloc[0:100, 4].values\n",
    "y = np.where(y == 'Iris-setosa', -1, 1)"
   ]
  },
  {
   "cell_type": "markdown",
   "id": "medium-royalty",
   "metadata": {},
   "source": [
    "### X"
   ]
  },
  {
   "cell_type": "code",
   "execution_count": 11,
   "id": "seventh-visibility",
   "metadata": {},
   "outputs": [],
   "source": [
    "X = df.iloc[0:100, [0, 2]].values"
   ]
  },
  {
   "cell_type": "markdown",
   "id": "earlier-address",
   "metadata": {},
   "source": [
    "### Estandarizando x"
   ]
  },
  {
   "cell_type": "code",
   "execution_count": 28,
   "id": "whole-happiness",
   "metadata": {},
   "outputs": [],
   "source": [
    "X_std = np.copy(X)\n",
    "X_std[:, 0] = (X[:, 0] - X[:, 0].mean()) / X[:, 0].std()\n",
    "X_std[:, 1] = (X[:, 1] - X[:, 1].mean()) / X[:, 1].std()"
   ]
  },
  {
   "cell_type": "markdown",
   "id": "sexual-annual",
   "metadata": {},
   "source": [
    "## Entrenando"
   ]
  },
  {
   "cell_type": "code",
   "execution_count": 29,
   "id": "skilled-browser",
   "metadata": {},
   "outputs": [
    {
     "data": {
      "text/plain": [
       "<__main__.AdaLiNeGD at 0x7f0244df5dc0>"
      ]
     },
     "execution_count": 29,
     "metadata": {},
     "output_type": "execute_result"
    }
   ],
   "source": [
    "ada_gd = AdaLiNeGD(lr = 0.01, n_iter = 10)\n",
    "ada_gd.fit(X_std, y)"
   ]
  },
  {
   "cell_type": "code",
   "execution_count": 65,
   "id": "alleged-gardening",
   "metadata": {},
   "outputs": [
    {
     "data": {
      "text/plain": [
       "<matplotlib.legend.Legend at 0x7f0243e22760>"
      ]
     },
     "execution_count": 65,
     "metadata": {},
     "output_type": "execute_result"
    },
    {
     "data": {
      "image/png": "[encoded data removed]",
      "text/plain": [
       "<Figure size 720x576 with 1 Axes>"
      ]
     },
     "metadata": {
      "needs_background": "light"
     },
     "output_type": "display_data"
    }
   ],
   "source": [
    "fig, ax = plt.subplots(figsize = [10,8])\n",
    "\n",
    "#fig.suptitle('', fontsize = 26)\n",
    "\n",
    "ax.set_aspect(aspect = 1)\n",
    "\n",
    "ax.set_xlabel('sepal length [standardized]')\n",
    "ax.set_ylabel('petal length [standardized]')\n",
    "\n",
    "ax.scatter(\n",
    "    X_std[:50, 0], \n",
    "    X_std[:50, 1], \n",
    "    color = 'red', \n",
    "    marker = 'o', \n",
    "    label = 'setosa'\n",
    ")\n",
    "\n",
    "ax.scatter(\n",
    "    X_std[50:100, 0], \n",
    "    X_std[50:100, 1],\n",
    "    color = 'blue', \n",
    "    marker = 'x', \n",
    "    label = 'versicolor'\n",
    ")\n",
    "\n",
    "ws = ada_gd.w_\n",
    "plt.plot(\n",
    "    list(range(-2, 3)), \n",
    "    [(-ws[0] -(ws[1]*x))/ws[2] for x in range(-2,3)], \n",
    "    marker = 'o',\n",
    "    color = 'black'\n",
    ")\n",
    "\n",
    "plt.legend(fontsize = 'x-large')"
   ]
  },
  {
   "cell_type": "code",
   "execution_count": 66,
   "id": "bizarre-theory",
   "metadata": {
    "scrolled": true
   },
   "outputs": [
    {
     "data": {
      "text/plain": [
       "Text(0, 0.5, 'Sum-squared-error')"
      ]
     },
     "execution_count": 66,
     "metadata": {},
     "output_type": "execute_result"
    },
    {
     "data": {
      "image/png": "[encoded data removed]",
      "text/plain": [
       "<Figure size 432x288 with 1 Axes>"
      ]
     },
     "metadata": {
      "needs_background": "light"
     },
     "output_type": "display_data"
    }
   ],
   "source": [
    "plt.plot(range(1, len(ada_gd.cost_) + 1), ada_gd.cost_, marker='o')\n",
    "plt.xlabel('Epochs')\n",
    "plt.ylabel('Sum-squared-error')"
   ]
  },
  {
   "cell_type": "markdown",
   "id": "former-oxide",
   "metadata": {},
   "source": [
    "El descenso clasico es muy costoso para datets con millones de lineas, por eso se usa adline con descenso de gradiente estocastico o hacer descenso normal pero a pedazos."
   ]
  },
  {
   "cell_type": "code",
   "execution_count": 67,
   "id": "filled-lounge",
   "metadata": {},
   "outputs": [],
   "source": [
    "from numpy.random import seed"
   ]
  },
  {
   "cell_type": "code",
   "execution_count": 70,
   "id": "fantastic-access",
   "metadata": {},
   "outputs": [],
   "source": [
    "class AdaLiNeSGD:\n",
    "    def __init__(self, \n",
    "                 lr = 0.01, \n",
    "                 n_iter = 10, \n",
    "                 shuffle = True, \n",
    "                 random_state = None\n",
    "                ):\n",
    "        self.lr = lr\n",
    "        self.n_iter = n_iter\n",
    "        self.w_initialized = False\n",
    "        self.shuffle = shuffle # Por la explicación de Rashka, no entiendo porque dar posibilidad a False\n",
    "        self.random_state = random_state\n",
    "        \n",
    "    def fit(self, X, y):\n",
    "        self._initialize_weights(X.shape[1])\n",
    "        self.cost_ = []\n",
    "        for i in range(self.n_iter):\n",
    "            if self.shuffle:\n",
    "                X, y = self._shuffle(X, y)\n",
    "            cost = []\n",
    "            for xi, target in zip(X, y): # se modifican los pesos por cada linea de datos\n",
    "                cost.append(self._update_weights(xi, target))\n",
    "            avg_cost = sum(cost) / len(y)\n",
    "            self.cost_.append(avg_cost)\n",
    "        return self\n",
    "\n",
    "    def partial_fit(self, X, y): # Esto es para actualizar pesos sin borrar los anteriores\n",
    "        if not self.w_initialized:\n",
    "            self._initialize_weights(X.shape[1])\n",
    "        if y.ravel().shape[0] > 1: # Ehhh, no entiendo que hace, creo que es para evitar arrays vacios\n",
    "            for xi, target in zip(X, y):\n",
    "                self._update_weights(xi, target)\n",
    "        else:\n",
    "            self._update_weights(X, y)\n",
    "        return self\n",
    "\n",
    "    def _shuffle(self, X, y):\n",
    "        r = self.rgen.permutation(len(y))\n",
    "        return X[r], y[r]\n",
    "    \n",
    "    def _initialize_weights(self, m):\n",
    "        self.rgen = np.random.RandomState(self.random_state)\n",
    "        self.w_ = self.rgen.normal(loc = 0.0, scale = 0.01, size = 1 + m)\n",
    "        self.w_initialized = True\n",
    "        \n",
    "    def _update_weights(self, xi, target): # esto es la actualización parcial\n",
    "        output = self.net_input(xi)\n",
    "        error = (target - output)\n",
    "        self.w_[1:] += self.lr * xi.dot(error)\n",
    "        self.w_[0] += self.lr * error # no se hacec la sumatoria de errores porque solo hay uno\n",
    "        cost = 0.5 * error**2\n",
    "        return cost\n",
    "    \n",
    "    def net_input(self, X):\n",
    "        return np.dot(X, self.w_[1:]) + self.w_[0]\n",
    "\n",
    "    def predict(self, X):\n",
    "        return np.where(self.net_input(X) >= 0.0, 1, -1)"
   ]
  },
  {
   "cell_type": "markdown",
   "id": "bulgarian-panama",
   "metadata": {},
   "source": [
    "## Notas adaline estocastica.\n",
    "\n",
    "* En esta también removi la funcion de activación\n",
    "* ¿No se podrá hacer una adaline normal y estocastica en una sola clase?, supongo que sí pero debe ser muy complicado como para que valga la pena.\n",
    "* !!! Añadir un lr que se adapte con el tiempo puede mejorar el ajuste. Lr que se reduce con el tiempo.  \n",
    "    en realidad se reduce con el número de actualizaciones, no?, supongo que eso varía  \n",
    "    tal vez se reduce cada x actualizaciones, lineal o de otra manera  "
   ]
  },
  {
   "cell_type": "code",
   "execution_count": 72,
   "id": "sacred-inspection",
   "metadata": {},
   "outputs": [
    {
     "data": {
      "text/plain": [
       "<__main__.AdaLiNeSGD at 0x7f0244ad4370>"
      ]
     },
     "execution_count": 72,
     "metadata": {},
     "output_type": "execute_result"
    }
   ],
   "source": [
    "ada_sgd = AdaLiNeSGD(n_iter = 15, lr = 0.01, random_state = 1)\n",
    "ada_sgd.fit(X_std, y)"
   ]
  },
  {
   "cell_type": "code",
   "execution_count": 82,
   "id": "operational-netherlands",
   "metadata": {},
   "outputs": [
    {
     "data": {
      "text/plain": [
       "<matplotlib.legend.Legend at 0x7f0244089d60>"
      ]
     },
     "execution_count": 82,
     "metadata": {},
     "output_type": "execute_result"
    },
    {
     "data": {
      "image/png": "[encoded data removed]",
      "text/plain": [
       "<Figure size 720x432 with 1 Axes>"
      ]
     },
     "metadata": {
      "needs_background": "light"
     },
     "output_type": "display_data"
    }
   ],
   "source": [
    "fig, ax = plt.subplots(figsize = [10,6])\n",
    "\n",
    "fig.suptitle('AdalineSGD', fontsize = 26)\n",
    "\n",
    "ax.set_aspect(aspect = 1)\n",
    "\n",
    "ax.set_xlabel('sepal length [standardized]')\n",
    "ax.set_ylabel('petal length [standardized]')\n",
    "\n",
    "ax.scatter(\n",
    "    X_std[:50, 0], \n",
    "    X_std[:50, 1], \n",
    "    color = 'red', \n",
    "    marker = 'o', \n",
    "    label = 'setosa'\n",
    ")\n",
    "\n",
    "ax.scatter(\n",
    "    X_std[50:100, 0], \n",
    "    X_std[50:100, 1],\n",
    "    color = 'blue', \n",
    "    marker = 'x', \n",
    "    label = 'versicolor'\n",
    ")\n",
    "\n",
    "ws = ada_sgd.w_\n",
    "plt.plot(\n",
    "    list(range(-2, 3)), \n",
    "    [(-ws[0] -(ws[1]*x))/ws[2] for x in range(-2,3)], \n",
    "    marker = 'o',\n",
    "    color = 'black'\n",
    ")\n",
    "\n",
    "plt.legend(fontsize = 'x-large')"
   ]
  },
  {
   "cell_type": "code",
   "execution_count": 80,
   "id": "enclosed-jewel",
   "metadata": {},
   "outputs": [
    {
     "name": "stdout",
     "output_type": "stream",
     "text": [
      "[ 2.27202773e-04 -1.38544756e-01  1.07263215e+00]\n",
      "[ 3.40838469e-16 -1.53568950e-01  9.73264237e-01]\n",
      "[0.0002272  0.01502419 0.09936792]\n"
     ]
    }
   ],
   "source": [
    "print(ada_sgd.w_)\n",
    "print(ada_gd.w_)\n",
    "print(ada_sgd.w_ - ada_gd.w_)\n",
    "# Mm... no deberian ser casi iguales?, la diferencia de los ultimos numeros es casi 1 -> error, es casi 0.1\n",
    "# aun asi pense que sería menor"
   ]
  }
 ],
 "metadata": {
  "kernelspec": {
   "display_name": "Python 3",
   "language": "python",
   "name": "python3"
  },
  "language_info": {
   "codemirror_mode": {
    "name": "ipython",
    "version": 3
   },
   "file_extension": ".py",
   "mimetype": "text/x-python",
   "name": "python",
   "nbconvert_exporter": "python",
   "pygments_lexer": "ipython3",
   "version": "3.9.0+"
  }
 },
 "nbformat": 4,
 "nbformat_minor": 5
}
