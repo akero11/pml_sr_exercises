{
 "cells": [
  {
   "cell_type": "markdown",
   "id": "recovered-element",
   "metadata": {},
   "source": [
    "# Chapter Two: Training Machine Learning Algorithms for Classification"
   ]
  },
  {
   "cell_type": "markdown",
   "id": "third-placement",
   "metadata": {},
   "source": [
    "## Nombres\n",
    "\n",
    "eta -> parece una n, representa la taza de aprendizaje  \n",
    "y -> class labels  \n",
    "__X__ -> Matrix, equis grande  \n",
    "__x__ -> Vector, equis pequeña  \n",
    "$x_j^i$ -> Valor individual, equis cursiva  \n",
    "$x^i$ -> _i_-th row of X  \n",
    "$x_j$ -> _j_-th dimension of X  \n",
    "__z__ -> Net Input  "
   ]
  },
  {
   "cell_type": "markdown",
   "id": "greatest-trigger",
   "metadata": {},
   "source": [
    "## Perceptron"
   ]
  },
  {
   "cell_type": "markdown",
   "id": "correct-patient",
   "metadata": {},
   "source": [
    "### Useful resources: \n",
    "[\"Perceptron\"](https://youtu.be/4Gac5I64LM4) by [ritvikmath](https://www.youtube.com/channel/UCUcpVoi5KkJmnE3bvEhHR0Q)"
   ]
  },
  {
   "cell_type": "code",
   "execution_count": 2,
   "id": "nuclear-generation",
   "metadata": {},
   "outputs": [],
   "source": [
    "import numpy as np"
   ]
  },
  {
   "cell_type": "code",
   "execution_count": 3,
   "id": "nervous-navigator",
   "metadata": {},
   "outputs": [],
   "source": [
    "class Perceptron:\n",
    "    def __init__(self, learning_rate = 0.1, n_iterations = 50):\n",
    "        self.learning_rate = learning_rate\n",
    "        self.n_iterations = n_iterations\n",
    "\n",
    "        \n",
    "    def fit(self, X, y):\n",
    "        self.w_ = np.zeros(X.shape()[1] + 1)\n",
    "        self.errors = []\n",
    "        \n",
    "        for _ in range(self.n_iterations):\n",
    "            errors = 0\n",
    "            for xi, target in zip(X, y):\n",
    "                update = self.learning_rate * (target - self.predict(xi))\n",
    "                self.w_[1:] += update * xi\n",
    "                self.w_[0] += update\n",
    "                errors += int(update!=0.0)\n",
    "            self.errors.append(errors)\n",
    "        return(self)\n",
    "\n",
    "\n",
    "    def net_input(self, X):\n",
    "        return(np.dot(X, self.w_[1:]) + self.w_[0])\n",
    "\n",
    "    \n",
    "    def predict(self, X):\n",
    "        return(np.where(self.net_input(X) >= 0.0, 1, -1))"
   ]
  },
  {
   "cell_type": "markdown",
   "id": "naked-chicago",
   "metadata": {},
   "source": [
    "### Notas\n",
    "\n",
    "Predict se usa en el entrenar pero también se usa una vez se ha entrenado.  \n",
    "Se guardan los errores para evaluar el desempeño posteriormente.  \n",
    "La regla del perceptron no está restringida a 2d.  \n",
    "Puede usarse __OvA__ para clasificación de multiples clases."
   ]
  },
  {
   "cell_type": "markdown",
   "id": "fleet-rating",
   "metadata": {},
   "source": [
    "### Dudas\n",
    "\n",
    "* ¿Por qué + w_0?\n",
    "    > porque es una manera mas compacta y equivalente a otra cosa,  \n",
    "    > un equivalente es np.dot(1+X, 1+self.w_[1:]) o algo asi...\n",
    "* No entiendo porque no añadir 0 como w[0] y 1 como X[0].\n",
    "    > creo que no afecta en nada pero puede que genere problemas  \n",
    "    > tambien creo que es dificil de definir\n",
    "    > o puede que no valga la pena añadir un 1 al inicio si X es muy grande"
   ]
  },
  {
   "cell_type": "markdown",
   "id": "certain-sheffield",
   "metadata": {},
   "source": [
    "## Probando el perceptron con el dataset iris."
   ]
  },
  {
   "cell_type": "markdown",
   "id": "missing-tower",
   "metadata": {},
   "source": [
    "### Importando el dataset"
   ]
  },
  {
   "cell_type": "code",
   "execution_count": 4,
   "id": "proprietary-foundation",
   "metadata": {},
   "outputs": [],
   "source": [
    "import pandas as pd"
   ]
  },
  {
   "cell_type": "code",
   "execution_count": 5,
   "id": "dutch-elevation",
   "metadata": {},
   "outputs": [
    {
     "data": {
      "text/html": [
       "<div>\n",
       "<style scoped>\n",
       "    .dataframe tbody tr th:only-of-type {\n",
       "        vertical-align: middle;\n",
       "    }\n",
       "\n",
       "    .dataframe tbody tr th {\n",
       "        vertical-align: top;\n",
       "    }\n",
       "\n",
       "    .dataframe thead th {\n",
       "        text-align: right;\n",
       "    }\n",
       "</style>\n",
       "<table border=\"1\" class=\"dataframe\">\n",
       "  <thead>\n",
       "    <tr style=\"text-align: right;\">\n",
       "      <th></th>\n",
       "      <th>0</th>\n",
       "      <th>1</th>\n",
       "      <th>2</th>\n",
       "      <th>3</th>\n",
       "      <th>4</th>\n",
       "    </tr>\n",
       "  </thead>\n",
       "  <tbody>\n",
       "    <tr>\n",
       "      <th>145</th>\n",
       "      <td>6.7</td>\n",
       "      <td>3.0</td>\n",
       "      <td>5.2</td>\n",
       "      <td>2.3</td>\n",
       "      <td>Iris-virginica</td>\n",
       "    </tr>\n",
       "    <tr>\n",
       "      <th>146</th>\n",
       "      <td>6.3</td>\n",
       "      <td>2.5</td>\n",
       "      <td>5.0</td>\n",
       "      <td>1.9</td>\n",
       "      <td>Iris-virginica</td>\n",
       "    </tr>\n",
       "    <tr>\n",
       "      <th>147</th>\n",
       "      <td>6.5</td>\n",
       "      <td>3.0</td>\n",
       "      <td>5.2</td>\n",
       "      <td>2.0</td>\n",
       "      <td>Iris-virginica</td>\n",
       "    </tr>\n",
       "    <tr>\n",
       "      <th>148</th>\n",
       "      <td>6.2</td>\n",
       "      <td>3.4</td>\n",
       "      <td>5.4</td>\n",
       "      <td>2.3</td>\n",
       "      <td>Iris-virginica</td>\n",
       "    </tr>\n",
       "    <tr>\n",
       "      <th>149</th>\n",
       "      <td>5.9</td>\n",
       "      <td>3.0</td>\n",
       "      <td>5.1</td>\n",
       "      <td>1.8</td>\n",
       "      <td>Iris-virginica</td>\n",
       "    </tr>\n",
       "  </tbody>\n",
       "</table>\n",
       "</div>"
      ],
      "text/plain": [
       "       0    1    2    3               4\n",
       "145  6.7  3.0  5.2  2.3  Iris-virginica\n",
       "146  6.3  2.5  5.0  1.9  Iris-virginica\n",
       "147  6.5  3.0  5.2  2.0  Iris-virginica\n",
       "148  6.2  3.4  5.4  2.3  Iris-virginica\n",
       "149  5.9  3.0  5.1  1.8  Iris-virginica"
      ]
     },
     "execution_count": 5,
     "metadata": {},
     "output_type": "execute_result"
    }
   ],
   "source": [
    "url = 'https://archive.ics.uci.edu/ml/machine-learning-databases/iris/iris.data'\n",
    "df = pd.read_csv(url, header = None, encoding = 'utf-8')\n",
    "df.tail()"
   ]
  },
  {
   "cell_type": "markdown",
   "id": "respective-mount",
   "metadata": {},
   "source": [
    "### Obteniendo las etiquetas y cambiando etiquetas de texto a número"
   ]
  },
  {
   "cell_type": "code",
   "execution_count": 8,
   "id": "exact-commission",
   "metadata": {},
   "outputs": [],
   "source": [
    "y = df.iloc[0:100, 4].values\n",
    "y = np.where(y == 'Iris-setosa', -1, 1)"
   ]
  },
  {
   "cell_type": "markdown",
   "id": "consolidated-andrews",
   "metadata": {},
   "source": [
    "### Obteniendo largo de sépalo y pétalo"
   ]
  },
  {
   "cell_type": "code",
   "execution_count": 10,
   "id": "possible-interference",
   "metadata": {},
   "outputs": [],
   "source": [
    "X = df.iloc[0:100, [0, 2]].values"
   ]
  },
  {
   "cell_type": "markdown",
   "id": "apart-sleeve",
   "metadata": {},
   "source": [
    "### Graficando"
   ]
  },
  {
   "cell_type": "code",
   "execution_count": 9,
   "id": "ongoing-stranger",
   "metadata": {},
   "outputs": [],
   "source": [
    "import matplotlib.pyplot as plt"
   ]
  },
  {
   "cell_type": "code",
   "execution_count": 11,
   "id": "answering-indie",
   "metadata": {},
   "outputs": [
    {
     "data": {
      "image/png": "[encoded data removed]",
      "text/plain": [
       "<Figure size 432x288 with 1 Axes>"
      ]
     },
     "metadata": {
      "needs_background": "light"
     },
     "output_type": "display_data"
    }
   ],
   "source": [
    "plt.scatter(\n",
    "    X[:50, 0], \n",
    "    X[:50, 1], \n",
    "    color = 'red', \n",
    "    marker = 'o', \n",
    "    label = 'setosa'\n",
    ")\n",
    "\n",
    "plt.scatter(\n",
    "    X[50:100, 0], \n",
    "    X[50:100, 1],\n",
    "    color = 'blue', \n",
    "    marker = 'x', \n",
    "    label = 'versicolor'\n",
    ")\n",
    "\n",
    "plt.xlabel('petal length')\n",
    "plt.ylabel('sepal length')\n",
    "\n",
    "plt.legend(loc='upper left')\n",
    "\n",
    "plt.show()"
   ]
  },
  {
   "cell_type": "markdown",
   "id": "hydraulic-frame",
   "metadata": {},
   "source": [
    "### Notas\n",
    "\n",
    "Los primeros 100 valores son de iris-setosa e iris-versicolor. Son separables linealmente.  \n",
    "Al ser 2 clases se cambia su nombre por -1 o 1 para __setosa__ y __versicolor__, respectivamente.\n",
    "\n",
    "Se usan los largos del sépalo y el pétalo, correspondiendo a la columna 0 y 2.  "
   ]
  },
  {
   "cell_type": "markdown",
   "id": "accredited-plasma",
   "metadata": {},
   "source": [
    "## Preguntas a responder\n",
    "\n",
    "### ¿Cómo se asemeja el aprendizaje de un perceptrón al de una neurona?\n",
    "\n",
    "#### Input  \n",
    "\n",
    "Neurona -> Electricos y Quimicos  \n",
    "Perceptrón -> Datos  \n",
    "\n",
    "#### Activación\n",
    "\n",
    "Neurona -> Impulso suficientemente fuerte para pasar por el axón  \n",
    "Perceptrón -> Valor superior a un cierto limite  \n",
    "\n",
    "#### Aprendizaje  \n",
    "\n",
    "Neurona -> La conexión entre neuronas se fortalece entre más se use  \n",
    "Perceptrón -> Los valores se ajustan para mejorar la clasificación  \n",
    "\n",
    "### ¿Qué hace un algoritmo de clasificación?\n",
    "\n",
    "Predice la clase de algo en base a lo que ha aprendido, a\n",
    "\n",
    "### ¿Cuál es la diferencia entre el perceptrón y Adaline?\n",
    "\n",
    "\n",
    "\n",
    "### ¿Cómo funciona el método de la gradiente?\n",
    "\n",
    "Busca el minimo de \n",
    "\n",
    "### ¿Cuándo utilizar gradiente estocástica?\n",
    "\n"
   ]
  }
 ],
 "metadata": {
  "kernelspec": {
   "display_name": "Python 3",
   "language": "python",
   "name": "python3"
  },
  "language_info": {
   "codemirror_mode": {
    "name": "ipython",
    "version": 3
   },
   "file_extension": ".py",
   "mimetype": "text/x-python",
   "name": "python",
   "nbconvert_exporter": "python",
   "pygments_lexer": "ipython3",
   "version": "3.9.0+"
  }
 },
 "nbformat": 4,
 "nbformat_minor": 5
}
