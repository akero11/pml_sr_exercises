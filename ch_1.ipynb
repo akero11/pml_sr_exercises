{
 "cells": [
  {
   "cell_type": "code",
   "execution_count": 6,
   "id": "floating-comfort",
   "metadata": {},
   "outputs": [
    {
     "name": "stdout",
     "output_type": "stream",
     "text": [
      "Package             Version\n",
      "------------------- -------\n",
      "argon2-cffi         20.1.0\n",
      "async-generator     1.10\n",
      "attrs               20.3.0\n",
      "backcall            0.2.0\n",
      "bleach              3.3.0\n",
      "cffi                1.14.5\n",
      "colorama            0.4.4\n",
      "cycler              0.10.0\n",
      "decorator           4.4.2\n",
      "defusedxml          0.6.0\n",
      "entrypoints         0.3\n",
      "ipykernel           5.5.0\n",
      "ipython             7.21.0\n",
      "ipython-genutils    0.2.0\n",
      "jedi                0.18.0\n",
      "Jinja2              2.11.3\n",
      "joblib              1.0.1\n",
      "jsonschema          3.2.0\n",
      "jupyter-client      6.1.11\n",
      "jupyter-core        4.7.1\n",
      "jupyterlab-pygments 0.1.2\n",
      "kiwisolver          1.3.1\n",
      "MarkupSafe          1.1.1\n",
      "matplotlib          3.3.4\n",
      "mistune             0.8.4\n",
      "nbclient            0.5.3\n",
      "nbconvert           6.0.7\n",
      "nbformat            5.1.2\n",
      "Note: you may need to restart the kernel to use updated packages.nest-asyncio        1.5.1\n",
      "notebook            6.2.0\n",
      "numpy               1.20.1\n",
      "packaging           20.9\n",
      "pandas              1.2.2\n",
      "\n",
      "pandocfilters       1.4.3\n",
      "parso               0.8.1\n",
      "pickleshare         0.7.5\n",
      "Pillow              8.1.0\n",
      "pip                 21.0.1\n",
      "prometheus-client   0.9.0\n",
      "prompt-toolkit      3.0.16\n",
      "pycparser           2.20\n",
      "Pygments            2.8.0\n",
      "pyparsing           2.4.7\n",
      "pyrsistent          0.17.3\n",
      "python-dateutil     2.8.1\n",
      "pytz                2021.1\n",
      "pywin32             300\n",
      "pywinpty            0.5.7\n",
      "pyzmq               22.0.3\n",
      "scikit-learn        0.24.1\n",
      "scipy               1.6.1\n",
      "Send2Trash          1.5.0\n",
      "setuptools          47.1.0\n",
      "six                 1.15.0\n",
      "terminado           0.9.2\n",
      "testpath            0.4.4\n",
      "threadpoolctl       2.1.0\n",
      "tornado             6.1\n",
      "traitlets           5.0.5\n",
      "wcwidth             0.2.5\n",
      "webencodings        0.5.1\n"
     ]
    }
   ],
   "source": []
  },
  {
   "cell_type": "code",
   "execution_count": null,
   "id": "random-circus",
   "metadata": {},
   "outputs": [],
   "source": []
  }
 ],
 "metadata": {
  "kernelspec": {
   "display_name": "Python 3",
   "language": "python",
   "name": "python3"
  },
  "language_info": {
   "codemirror_mode": {
    "name": "ipython",
    "version": 3
   },
   "file_extension": ".py",
   "mimetype": "text/x-python",
   "name": "python",
   "nbconvert_exporter": "python",
   "pygments_lexer": "ipython3",
   "version": "3.8.5"
  }
 },
 "nbformat": 4,
 "nbformat_minor": 5
}
