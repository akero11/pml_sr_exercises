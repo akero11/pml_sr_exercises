{
 "cells": [
  {
   "cell_type": "markdown",
   "id": "recovered-element",
   "metadata": {},
   "source": [
    "# Chapter Two: Training Machine Learning Algorithms for Classification"
   ]
  },
  {
   "cell_type": "markdown",
   "id": "third-placement",
   "metadata": {},
   "source": [
    "## Notas\n",
    "\n",
    "eta -> parece una n, representa la taza de aprendizaje  \n",
    "y -> class labels  \n",
    "__X__ -> Matrix  \n",
    "__x__ -> Vector  \n",
    "$x_j^i$ -> Individual value  \n",
    "$x^i$ -> _i_-th row of X  \n",
    "$x_j$ -> _j_-th dimension of X  \n",
    "__z__ -> Net Input"
   ]
  },
  {
   "cell_type": "markdown",
   "id": "broke-fight",
   "metadata": {},
   "source": [
    "## ¿Cómo se asemeja el aprendizaje de un perceptrón al de una neurona?\n",
    "\n",
    "### Input  \n",
    "Neurona -> Electricos y Quimicos  \n",
    "Perceptrón -> Datos  \n",
    "\n",
    "### Activación\n",
    "Neurona -> Impulso suficientemente fuerte para pasar por el axón  \n",
    "Perceptrón -> Valor superior a un cierto limite  \n",
    "\n",
    "### Aprendizaje  \n",
    "Neurona -> La conexión entre neuronas se fortalece entre más se use  \n",
    "Perceptrón -> Los valores se ajustan para mejorar la clasificación  "
   ]
  },
  {
   "cell_type": "markdown",
   "id": "amateur-essence",
   "metadata": {},
   "source": [
    "## ¿Qué hace un algoritmo de clasificación?\n",
    "\n"
   ]
  },
  {
   "cell_type": "markdown",
   "id": "discrete-perspective",
   "metadata": {},
   "source": [
    "## ¿Cuál es la diferencia entre el perceptrón y Adaline?\n",
    "\n",
    "El "
   ]
  },
  {
   "cell_type": "markdown",
   "id": "modified-silicon",
   "metadata": {},
   "source": [
    "## ¿Cómo funciona el método de la gradiente?\n",
    "\n"
   ]
  },
  {
   "cell_type": "markdown",
   "id": "alpha-variation",
   "metadata": {},
   "source": [
    "## ¿Cuándo utilizar gradiente estocástica?\n",
    "\n"
   ]
  },
  {
   "cell_type": "code",
   "execution_count": 1,
   "id": "nuclear-generation",
   "metadata": {},
   "outputs": [],
   "source": [
    "import numpy as np"
   ]
  },
  {
   "cell_type": "markdown",
   "id": "understanding-trouble",
   "metadata": {},
   "source": [
    "Perceptron:  \n",
    "\n",
    "\\_\\_init\\_\\_  \n",
    "\n",
    "* eta : learning rate\n",
    "* n_iter : passes over training dataset\n",
    "\n",
    "fit  \n",
    "\n",
    "* X : training matrix with shape = \\[n_examples, n_features\\]"
   ]
  },
  {
   "cell_type": "code",
   "execution_count": null,
   "id": "nervous-navigator",
   "metadata": {},
   "outputs": [],
   "source": [
    "class Perceptron():\n",
    "    def __init__(self, learning_rate = 0.1, n_iterations = 50):\n",
    "        self.learning_rate = learning_rate\n",
    "        self.n_iterations = n_iterations\n",
    "\n",
    "    def fit(self, X, y):\n",
    "        self.w_ = np.zeros(X.shape()[1] + 1)\n",
    "        self.errors = []\n",
    "        for _ in range(self.n_iterations):\n",
    "            errors = 0\n",
    "            for xi, target in zip(X, y):\n",
    "                update = self.learning_rate * (target - self.predict(xi))\n",
    "                self.w_[1:] += update * xi\n",
    "                self.w_[0] += update\n",
    "                errors += int(update!=0.0)\n",
    "            self.errors.append(errors)\n",
    "        return(self)\n",
    "\n",
    "\n",
    "    def net_input(self, X):\n",
    "        return(np.dot(X, self.w_[1:]) + self.w_[0])\n",
    "\n",
    "    def predict(self, X):\n",
    "        return(np.where(self.net_input(X) >= 0.0, 1, -1))"
   ]
  },
  {
   "cell_type": "markdown",
   "id": "level-upper",
   "metadata": {},
   "source": [
    "* ¿Por qué + w_0?\n",
    "    > porque es una manera mas compacta y equivalente a otra cosa,  \n",
    "    > un equivalente es np.dot(1+X, 1+self.w_[1:]) o algo asi...\n",
    "* No entiendo porque no añadir 0 como w[0] y 1 como X[0].\n",
    "    > creo que no afecta en nada pero puede que genere problemas  \n",
    "    > tambien creo que es dificil de definir\n",
    "    > o puede que no valga la pena añadir un 1 al inicio si X es muy grande"
   ]
  }
 ],
 "metadata": {
  "kernelspec": {
   "display_name": "Python 3",
   "language": "python",
   "name": "python3"
  },
  "language_info": {
   "codemirror_mode": {
    "name": "ipython",
    "version": 3
   },
   "file_extension": ".py",
   "mimetype": "text/x-python",
   "name": "python",
   "nbconvert_exporter": "python",
   "pygments_lexer": "ipython3",
   "version": "3.8.5"
  }
 },
 "nbformat": 4,
 "nbformat_minor": 5
}
